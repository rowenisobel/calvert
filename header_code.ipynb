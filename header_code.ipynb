{
 "cells": [
  {
   "cell_type": "code",
   "execution_count": null,
   "metadata": {},
   "outputs": [],
   "source": [
    "#Setup code\n",
    "import os\n",
    "import numpy as np\n",
    "from astropy import wcs\n",
    "from astropy.io import fits\n",
    "from astropy.table import Table\n",
    "import sys\n",
    "from astropy.utils.data import get_pkg_data_filename"
   ]
  },
  {
   "cell_type": "code",
   "execution_count": null,
   "metadata": {},
   "outputs": [],
   "source": [
    "#to create new headers individually\n",
    "fits.setval('filename.fits', 'keyword', value='value', ignore_missing_end=True)"
   ]
  },
  {
   "cell_type": "code",
   "execution_count": null,
   "metadata": {},
   "outputs": [],
   "source": [
    "#to delete existing headers\n",
    "unpack = fits.open('filename.fits')\n",
    "hdr = unpack[0].header\n",
    "del hdr['keyword']"
   ]
  },
  {
   "cell_type": "code",
   "execution_count": null,
   "metadata": {},
   "outputs": [],
   "source": [
    "#Still in progress: creating a loop to make headers from a header dictionary file\n",
    "\n",
    "#unpack an ascii or a csv into a dictionary somehow\n",
    "hdrdict = hdrdict\n",
    "filename = 'filename.fits'\n",
    "\n",
    "def ha_calculator(gmt, loc, long, ra):\n",
    "    \"\"\"\n",
    "    Takes GMT, local time, and longitude as inputs and calculates the hour angle.\n",
    "    \"\"\"\n",
    "    \n",
    "    t_sol = (gmt - loc)*15.deg\n",
    "    ha = t_sol - ra\n",
    "    return ha\n",
    "\n",
    "def zd_airmass(lat, dec, ha):\n",
    "    \"\"\"\n",
    "    Takes the latitude, declination, and hour angle and returns zenith distance and airmass.\n",
    "    \"\"\"\n",
    "    secz = 1/(np.sin(lat)*np.sin(dec)+np.cos(lat)*np.cos(dec)*np.cos(ha))\n",
    "    zd = np.arcsec(secz)\n",
    "    am = 1/np.cos(zd)\n",
    "    \n",
    "    return zd, am\n",
    "    \n",
    "\n",
    "def single_file_header_creator(file_md, filepath):\n",
    "    \"\"\"\n",
    "    A function which takes the FITS file and its accompanying dictionary and builds out each header //\n",
    "    keyword appropriately. Finally it prints the full header.\n",
    "    \"\"\"\n",
    "    \n",
    "    for pair in hdrdict:\n",
    "        if pair[1] =! None:\n",
    "            fits.setval(filename, str(pair[0]), value=str(pair[1]), ignore_missing_end=True)\n",
    "    \n",
    "    gmt = hdrdict['GMT']\n",
    "    loc = hdrdict['TIME-LOC']\n",
    "    ha = ha_calculator(gmt, loc)\n",
    "    zd, airmass = zd_airmass()\n",
    "    \n",
    "    fits.setval(filename, )\n",
    "    \n",
    "    hdr = fits.open(filename)[0].header\n",
    "    return hdr\n",
    "\n",
    "def full_series_header_creator(catalog_csv_filename, csvpath, filepath):\n",
    "    \"\"\"\n",
    "    Takes a dictionary pairing FITS filenames with their corresponding header dictionary files.\n",
    "    \"\"\"\n",
    "    cat = Table.read(os.path.join(catalog_csv_filename, csvpath), format='csv')\n",
    "    \n",
    "    for i in range(len(cat):\n",
    "        file_md = cat[i]\n",
    "        hdr = single_file_header_creator(file_md, filepath)\n",
    "        \n",
    "    return 'Cycle complete'"
   ]
  }
 ],
 "metadata": {
  "kernelspec": {
   "display_name": "Python 3 (ipykernel)",
   "language": "python",
   "name": "python3"
  },
  "language_info": {
   "codemirror_mode": {
    "name": "ipython",
    "version": 3
   },
   "file_extension": ".py",
   "mimetype": "text/x-python",
   "name": "python",
   "nbconvert_exporter": "python",
   "pygments_lexer": "ipython3",
   "version": "3.9.12"
  }
 },
 "nbformat": 4,
 "nbformat_minor": 2
}
