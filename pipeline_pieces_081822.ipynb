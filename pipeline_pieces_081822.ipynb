{
 "cells": [
  {
   "cell_type": "code",
   "execution_count": 2,
   "metadata": {},
   "outputs": [
    {
     "name": "stderr",
     "output_type": "stream",
     "text": [
      "WARNING: Astrometry.net API key not found in configuration file [astroquery.astrometry_net.core]\n",
      "WARNING: You need to manually edit the configuration file and add it [astroquery.astrometry_net.core]\n",
      "WARNING: You may also register it for this session with AstrometryNet.key = 'XXXXXXXX' [astroquery.astrometry_net.core]\n"
     ]
    }
   ],
   "source": [
    "import cv2\n",
    "import sep\n",
    "from astroquery.astrometry_net import AstrometryNet\n",
    "import numpy as np\n",
    "import math\n",
    "from astropy.io import fits\n",
    "import astropy.units as u\n",
    "from astropy.coordinates.sky_coordinate import SkyCoord\n",
    "from astropy import coordinates as coords\n",
    "from astropy.units import Quantity\n",
    "from astroquery.gaia import Gaia\n",
    "from astropy.table import Table, hstack\n",
    "from astropy.wcs import WCS\n",
    "from scipy.optimize import curve_fit\n",
    "from astroquery.sdss import SDSS"
   ]
  },
  {
   "cell_type": "code",
   "execution_count": 3,
   "metadata": {},
   "outputs": [],
   "source": [
    "API_key = 'kjyxfcglvpnuthca'"
   ]
  },
  {
   "cell_type": "code",
   "execution_count": 4,
   "metadata": {},
   "outputs": [],
   "source": [
    "def init(data_filename):\n",
    "    data_filename = data_filename\n",
    "    tif = cv2.imread(data_filename)\n",
    "    tif_dat = tif.astype(np.float32)\n",
    "    b, g, r = cv2.split(tif_dat)\n",
    "    comb_tif = b + g + r\n",
    "    invdat = -comb_tif+np.min(comb_tif)+np.max(comb_tif)\n",
    "    fits_file = fits.writeto(\"{}.fits\".format(data_filename[:-4]), invdat, overwrite = True)\n",
    "    return [data_filename, comb_tif, invdat, fits_file]\n",
    "    \n",
    "    "
   ]
  },
  {
   "cell_type": "code",
   "execution_count": 5,
   "metadata": {},
   "outputs": [],
   "source": [
    "def astrometry(initd, API, ra_guess, dec_guess, radius):\n",
    "    ast = AstrometryNet()\n",
    "    ast.api_key = API\n",
    "    solve1 = ast.solve_from_image(\"{}.fits\".format(initd[0][:-4]), force_image_upload=True, center_ra=ra_guess, center_dec=dec_guess, radius = radius, ra_dec_units=('degree', 'degree'))\n",
    "    fits.writeto(\"{}.fits\".format(initd[0][:-4]), initd[2], solve1, overwrite = True)\n",
    "    solve2 = ast.solve_from_image(\"{}.fits\".format(initd[0][:-4]), force_image_upload=True, center_ra=ra_guess, center_dec=dec_guess, radius = radius, ra_dec_units=('degree', 'degree'))\n",
    "    fits.writeto(\"{}.fits\".format(initd[0][:-4]), initd[2], solve2, overwrite = True)\n",
    "    fits_solve2 = fits.open(\"{}.fits\".format(initd[0][:-4]))\n",
    "    return solve2\n",
    "    "
   ]
  },
  {
   "cell_type": "code",
   "execution_count": 6,
   "metadata": {},
   "outputs": [],
   "source": [
    "def septrac(initd, astrom, sigma = 3.0, gain = 1.0):\n",
    "    bkg = sep.Background(initd[2])\n",
    "    wcssolve = WCS(astrom)\n",
    "    bkg_sub = initd[2] - bkg\n",
    "    objects = sep.extract(bkg_sub, sigma, err=bkg.globalrms)\n",
    "    objtable = Table(objects)\n",
    "    coord_p = wcssolve.pixel_to_world(objtable['x'], objtable['y'])\n",
    "    objtable['ra_p'], objtable['dec_p'] = coord_p.ra.deg, coord_p.dec.deg\n",
    "    objtable['pet_mag'] = 25 - 2.5*np.log10(objtable['flux'])\n",
    "    return [objtable, wcssolve]\n",
    "\n"
   ]
  },
  {
   "cell_type": "code",
   "execution_count": 7,
   "metadata": {},
   "outputs": [],
   "source": [
    "def gaia_call(initd, astrom, sept):\n",
    "    mid_coord = sept[1].pixel_to_world(round(np.shape(initd[2])[0]/2), round(np.shape(initd[2])[1]/2))\n",
    "    bottom_coord = sept[1].pixel_to_world(0, 0)\n",
    "    top_coord = sept[1].pixel_to_world(np.shape(initd[2])[0], np.shape(initd[2])[1])\n",
    "    full_coord_ra = np.abs(top_coord.ra.deg-bottom_coord.ra.deg)\n",
    "    full_coord_dec = np.abs(top_coord.dec.deg-bottom_coord.dec.deg)\n",
    "    job = Gaia.launch_job(\"SELECT TOP 500000 \"\n",
    "                    \"source_id,ra,dec,parallax,parallax_error,pm,pmra,pmra_error,pmdec,pmdec_error,phot_g_mean_mag,\"\n",
    "                    \"phot_bp_mean_mag,phot_bp_mean_flux_over_error,phot_rp_mean_mag,phot_rp_mean_flux_over_error,bp_rp,phot_variable_flag, classprob_dsc_combmod_galaxy\"\n",
    "                    \" from gaiadr3.gaia_source\"\n",
    "                    \" WHERE CONTAINS(POINT('ICRS',ra,dec),BOX('ICRS',{0},{1},{2},{3}))=1  AND  ((phot_bp_mean_mag + 1.1*bp_rp) <= 19.0)\".format(mid_coord.ra.deg, mid_coord.dec.deg, full_coord_ra+0.3, full_coord_dec+0.3))\n",
    "    gaia_res = job.get_results()\n",
    "    return gaia_res"
   ]
  },
  {
   "cell_type": "code",
   "execution_count": 8,
   "metadata": {},
   "outputs": [],
   "source": [
    "def match_cat(initd, astrom, sept, gaiac):\n",
    "    coords_gaia = SkyCoord(gaiac['ra'], gaiac['dec'], frame = 'icrs', unit = 'deg')\n",
    "    coords_plate = SkyCoord(sept[0]['ra_p'], sept[0]['dec_p'], frame = 'icrs', unit = 'deg')\n",
    "    index, diff2, diff3 = coords_plate.match_to_catalog_sky(coords_gaia)\n",
    "    match_cat = hstack([gaiac[index], sept[0]])\n",
    "    match_cat = match_cat[np.unique(match_cat['source_id'], return_index = True)[1]]\n",
    "    match_cat['ang_dist'] = np.abs(np.sqrt(match_cat['ra']**2+match_cat['dec']**2)-np.sqrt(match_cat['ra_p']**2+match_cat['dec_p']**2)) #i dont know if this makes any sense, distance formula\n",
    "    match_cat['pg'] = match_cat['phot_bp_mean_mag']+0.9*match_cat['bp_rp']\n",
    "    match_cat['dec_res'] = (match_cat['dec'] -  match_cat['dec_p'])*3600\n",
    "    match_cat['ra_res'] = (match_cat['ra'] -  match_cat['ra_p'])*3600*0.9114\n",
    "    return [match_cat, coords_gaia]"
   ]
  },
  {
   "cell_type": "code",
   "execution_count": 80,
   "metadata": {
    "scrolled": true
   },
   "outputs": [],
   "source": [
    "def transform(initd, astrom, sept, gaiac, matca):\n",
    "        tabu = matca[0]\n",
    "        grama = 16\n",
    "        smalm = 14\n",
    "        gal_choi = []\n",
    "        while len(gal_choi) == 0:\n",
    "            grama += 1\n",
    "            smalm -= 1\n",
    "            mag_up = tabu[tabu['pg'] < grama]\n",
    "            mag_mid = mag_up[mag_up['pg'] > smalm]\n",
    "            gal_choi = mag_mid[mag_mid['classprob_dsc_combmod_galaxy'] == 1]\n",
    "\n",
    "        hdu1 = (astrom)\n",
    "        imdata = initd[1]\n",
    "        im_raa = np.arange(np.shape(initd[2])[0])\n",
    "        im_deca = np.arange(np.shape(initd[2])[1])\n",
    "        im_grra, im_grdec = np.meshgrid(im_raa, im_deca)\n",
    "        im_vals = sept[1].pixel_to_world(im_grra, im_grdec)\n",
    "        \n",
    "        def log_x(x, a,b,c,d):\n",
    "            x = (a/np.log10(c*x-b)+d)**2\n",
    "            return x\n",
    "\n",
    "        galies = []\n",
    "        for galy in range(0,len(gal_choi)):\n",
    "            pos = coords.SkyCoord(gal_choi['ra'][galy], gal_choi['dec'][galy], frame='icrs', unit=u.deg)\n",
    "            image = SDSS.get_images(matches=Table(SDSS.query_region(pos)), band='g')\n",
    "            sdat = image[0][0].data\n",
    "            ra_pix = np.arange(image[0][0].header['NAXIS1'])\n",
    "            dec_pix = np.arange(image[0][0].header['NAXIS2'])\n",
    "            gridra, griddec = np.meshgrid(ra_pix, dec_pix)\n",
    "            sdss_val = WCS(image[0][0].header).pixel_to_world(gridra, griddec)\n",
    "\n",
    "            inn, di2, di3 = sdss_val.flatten().match_to_catalog_sky(im_vals.flatten())\n",
    "\n",
    "            dat1 = imdata.flatten()[inn]\n",
    "            gg1 = sdat.flatten()\n",
    "\n",
    "            popts = []\n",
    "            sortd = np.sort([dat1,gg1], 1)\n",
    "            split = 2\n",
    "            while True:\n",
    "                try:\n",
    "                    wanted = []\n",
    "                    spl_so = np.array_split(sortd, split, 1)\n",
    "                    for arr in range(0,split):\n",
    "                        migval = np.mean(spl_so[arr][0])\n",
    "                        s_vau = np.mean(spl_so[arr][1])\n",
    "                        wanted.append([migval+0.0000001*arr, s_vau])\n",
    "                    wanted.append([np.min(dat1), np.max(gg1)+100])\n",
    "                    wanted.append([np.max(dat1), np.min(gg1)-20])\n",
    "                    wanted = np.array(wanted)\n",
    "                    shap = np.shape(wanted)\n",
    "                    wanted = np.sort(np.reshape(wanted, (shap)), axis = 0)\n",
    "                    popt, pcov = curve_fit(log_x, (wanted[:,0]), (wanted[:,1][::-1]), maxfev = 5000)\n",
    "                    popts.append([split, popt, np.nansum(np.nansum(np.abs(imdata-log_x(imdata, *popt))**2))])\n",
    "                except:\n",
    "                    popts = np.array(popts, dtype = object)\n",
    "                    break\n",
    "                else:\n",
    "                    split += 25\n",
    "            popts = np.array(popts, dtype = object)\n",
    "            if len(popts) == 0:\n",
    "                pass\n",
    "            else:\n",
    "                rig = np.where(np.min((popts[:,2])) == (popts[:,2]))\n",
    "                galies.append(popts[rig])\n",
    "        galies = np.array(galies)\n",
    "        finr = np.where(np.min(galies[:,0,2]) == (galies[:,0,2]))\n",
    "        gcdata = log_x(imdata, *galies[finr[0][0]][0][1])\n",
    "#         fits.writeto(\"{}_galcal.fits\".format(initd[0][:-4]), gcdata, astrom, overwrite = True)\n",
    "#         fits_galcal = fits.open(\"{}_galcal.fits\".format(initd[0][:-4]))\n",
    "        return(gcdata)"
   ]
  },
  {
   "cell_type": "code",
   "execution_count": 10,
   "metadata": {},
   "outputs": [],
   "source": [
    "def gc_sep(initd, astrom, sept, gaiac, matca, trant, sigma = 3.0, gain = 1.0):\n",
    "    bkg = sep.Background(trant)\n",
    "    bkg_sub = trant - bkg\n",
    "    objects = sep.extract(bkg_sub, sigma, err=bkg.globalrms)\n",
    "    objtable = Table(objects)\n",
    "    coord_p = sept[1].pixel_to_world(objtable['x'], objtable['y'])\n",
    "    objtable['ra_p'], objtable['dec_p'] = coord_p.ra.deg, coord_p.dec.deg\n",
    "    objtable['pet_mag'] = 25 - 2.5*np.log10(objtable['flux'])\n",
    "    return objtable"
   ]
  },
  {
   "cell_type": "code",
   "execution_count": 11,
   "metadata": {},
   "outputs": [],
   "source": [
    "def gc_match(initd, astrom, sept, gaiac, matca, sepgc):\n",
    "    coords_plate = SkyCoord(sepgc['ra_p'], sepgc['dec_p'], frame = 'icrs', unit = 'deg')\n",
    "    index, diff2, diff3 = coords_plate.match_to_catalog_sky(matca[1])\n",
    "    gc_match = hstack([gaiac[index], sepgc])\n",
    "    gc_match = gc_match[np.unique(gc_match['source_id'], return_index = True)[1]]\n",
    "    gc_match['ang_dist'] = np.abs(np.sqrt(gc_match['ra']**2+gc_match['dec']**2)-np.sqrt(gc_match['ra_p']**2+gc_match['dec_p']**2)) #i dont know if this makes any sense, distance formula\n",
    "    gc_match['pg'] = gc_match['phot_bp_mean_mag']+0.9*gc_match['bp_rp']\n",
    "    gc_match['dec_res'] = (gc_match['dec'] -  gc_match['dec_p'])*3600\n",
    "    gc_match['ra_res'] = (gc_match['ra'] -  gc_match['ra_p'])*3600*0.9114\n",
    "    return(gc_match)"
   ]
  },
  {
   "cell_type": "code",
   "execution_count": 78,
   "metadata": {},
   "outputs": [
    {
     "name": "stdout",
     "output_type": "stream",
     "text": [
      "Solving.......Solving...............CPU times: user 3.28 s, sys: 1.84 s, total: 5.12 s\n",
      "Wall time: 52.2 s\n"
     ]
    }
   ],
   "source": [
    "%%time\n",
    "initd = init('/Users/irescapa/Downloads/R3170_det_pp.tif')\n",
    "astrom = astrometry(initd,API_key, 257.5000, 43.7500, 10)\n",
    "sept = septrac(initd, astrom, 5)\n",
    "gaiac = gaia_call(initd, astrom, sept)\n",
    "matca = match_cat(initd, astrom, sept, gaiac)"
   ]
  },
  {
   "cell_type": "code",
   "execution_count": 81,
   "metadata": {},
   "outputs": [
    {
     "name": "stderr",
     "output_type": "stream",
     "text": [
      "<ipython-input-80-102e08fb344b>:21: RuntimeWarning: invalid value encountered in log10\n",
      "  x = (a/np.log10(c*x-b)+d)**2\n"
     ]
    },
    {
     "name": "stdout",
     "output_type": "stream",
     "text": [
      "CPU times: user 2min 48s, sys: 16.5 s, total: 3min 5s\n",
      "Wall time: 3min 7s\n"
     ]
    }
   ],
   "source": [
    "%%time\n",
    "trant = transform(initd, astrom, sept, gaiac, matca)\n",
    "sepgc = gc_sep(initd, astrom, sept, gaiac, matca, trant, sigma = 5, gain = 1.0)\n",
    "fincat = gc_match(initd, astrom, sept, gaiac, matca, sepgc)"
   ]
  },
  {
   "cell_type": "code",
   "execution_count": 82,
   "metadata": {},
   "outputs": [
    {
     "data": {
      "text/html": [
       "<div><i>Table length=5197</i>\n",
       "<table id=\"table140383497406064\" class=\"table-striped table-bordered table-condensed\">\n",
       "<thead><tr><th>source_id</th><th>ra</th><th>dec</th><th>parallax</th><th>parallax_error</th><th>pm</th><th>pmra</th><th>pmra_error</th><th>pmdec</th><th>pmdec_error</th><th>phot_g_mean_mag</th><th>phot_bp_mean_mag</th><th>phot_bp_mean_flux_over_error</th><th>phot_rp_mean_mag</th><th>phot_rp_mean_flux_over_error</th><th>bp_rp</th><th>phot_variable_flag</th><th>classprob_dsc_combmod_galaxy</th><th>thresh</th><th>npix</th><th>tnpix</th><th>xmin</th><th>xmax</th><th>ymin</th><th>ymax</th><th>x</th><th>y</th><th>x2</th><th>y2</th><th>xy</th><th>errx2</th><th>erry2</th><th>errxy</th><th>a</th><th>b</th><th>theta</th><th>cxx</th><th>cyy</th><th>cxy</th><th>cflux</th><th>flux</th><th>cpeak</th><th>peak</th><th>xcpeak</th><th>ycpeak</th><th>xpeak</th><th>ypeak</th><th>flag</th><th>ra_p</th><th>dec_p</th><th>pet_mag</th><th>ang_dist</th><th>pg</th><th>dec_res</th><th>ra_res</th></tr></thead>\n",
       "<thead><tr><th></th><th>deg</th><th>deg</th><th>mas</th><th>mas</th><th>mas / yr</th><th>mas / yr</th><th>mas / yr</th><th>mas / yr</th><th>mas / yr</th><th>mag</th><th>mag</th><th></th><th>mag</th><th></th><th>mag</th><th></th><th></th><th></th><th></th><th></th><th></th><th></th><th></th><th></th><th></th><th></th><th></th><th></th><th></th><th></th><th></th><th></th><th></th><th></th><th></th><th></th><th></th><th></th><th></th><th></th><th></th><th></th><th></th><th></th><th></th><th></th><th></th><th></th><th></th><th></th><th>deg</th><th>mag</th><th>deg</th><th>deg</th></tr></thead>\n",
       "<thead><tr><th>int64</th><th>float64</th><th>float64</th><th>float64</th><th>float32</th><th>float32</th><th>float64</th><th>float32</th><th>float64</th><th>float32</th><th>float32</th><th>float32</th><th>float32</th><th>float32</th><th>float32</th><th>float32</th><th>object</th><th>float32</th><th>float64</th><th>int64</th><th>int64</th><th>int64</th><th>int64</th><th>int64</th><th>int64</th><th>float64</th><th>float64</th><th>float64</th><th>float64</th><th>float64</th><th>float64</th><th>float64</th><th>float64</th><th>float64</th><th>float64</th><th>float64</th><th>float64</th><th>float64</th><th>float64</th><th>float64</th><th>float64</th><th>float64</th><th>float64</th><th>int64</th><th>int64</th><th>int64</th><th>int64</th><th>int64</th><th>float64</th><th>float64</th><th>float64</th><th>float64</th><th>float32</th><th>float64</th><th>float64</th></tr></thead>\n",
       "<tr><td>1360187662717292160</td><td>259.1292165741683</td><td>42.84329065810747</td><td>0.3786064788199535</td><td>0.030454269</td><td>6.384339</td><td>2.224177673025725</td><td>0.033747137</td><td>-5.984380831073483</td><td>0.037840497</td><td>16.143578</td><td>16.451704</td><td>341.15277</td><td>15.611775</td><td>391.67712</td><td>0.8399286</td><td>NOT_AVAILABLE</td><td>5.2170524e-13</td><td>0.001198393409140408</td><td>8</td><td>7</td><td>1226</td><td>1228</td><td>0</td><td>2</td><td>1226.871679272654</td><td>0.8771915218748364</td><td>0.5621857473594696</td><td>0.5496329485353042</td><td>-0.10331723715329633</td><td>0.0018361328381201357</td><td>0.001836114083277514</td><td>-0.00042373722268143545</td><td>0.8120449781417847</td><td>0.6726080775260925</td><td>-0.7550610303878784</td><td>1.8424190282821655</td><td>1.8844971656799316</td><td>0.6926573514938354</td><td>0.012350047007203102</td><td>0.015546578913927078</td><td>0.0020756882149726152</td><td>0.002778533613309264</td><td>1227</td><td>1</td><td>1227</td><td>1</td><td>2</td><td>259.1268190382338</td><td>42.84332365836514</td><td>29.520912910847706</td><td>0.002360040077405756</td><td>17.20764</td><td>-0.11880092759781746</td><td>7.866411302551132</td></tr>\n",
       "<tr><td>1360182302597958656</td><td>258.86052662717714</td><td>42.70840480809556</td><td>0.8582376619225857</td><td>0.021039546</td><td>6.088845</td><td>2.2594175037885385</td><td>0.026064226</td><td>5.6541192589346565</td><td>0.026897041</td><td>15.025394</td><td>15.373041</td><td>552.1504</td><td>14.504373</td><td>813.70135</td><td>0.86866856</td><td>NOT_AVAILABLE</td><td>5.124686e-13</td><td>0.001198393409140408</td><td>11</td><td>11</td><td>784</td><td>789</td><td>4</td><td>7</td><td>786.5153825762573</td><td>5.614466431634561</td><td>2.0617052012948793</td><td>1.1428138231248854</td><td>1.2995283712216192</td><td>0.005835916257001067</td><td>0.0032213701570091213</td><td>0.0036418776876505723</td><td>1.7264457941055298</td><td>0.4731847941875458</td><td>0.6154820919036865</td><td>1.7124110460281372</td><td>3.0892930030822754</td><td>-3.8944692611694336</td><td>0.014960412867367268</td><td>0.017752189189195633</td><td>0.001453462173230946</td><td>0.0019745214376598597</td><td>787</td><td>6</td><td>784</td><td>4</td><td>0</td><td>258.86534556580193</td><td>42.72551359359162</td><td>29.376870205936026</td><td>0.007540216935410626</td><td>16.154842</td><td>-61.59162778582754</td><td>-15.811130385494435</td></tr>\n",
       "<tr><td>1360187490918602752</td><td>259.0798031904234</td><td>42.80717928677785</td><td>0.4081947066681394</td><td>0.03853049</td><td>9.217796</td><td>-0.7354652609393404</td><td>0.045039795</td><td>-9.188408556356595</td><td>0.05080244</td><td>16.653845</td><td>16.964712</td><td>223.59898</td><td>16.184967</td><td>298.50598</td><td>0.7797451</td><td>NOT_AVAILABLE</td><td>5.125074e-13</td><td>0.001198393409140408</td><td>7</td><td>7</td><td>1141</td><td>1143</td><td>14</td><td>16</td><td>1141.6797798229463</td><td>15.006839221007871</td><td>0.43466464711690134</td><td>0.5444095072067991</td><td>-0.013980757309629</td><td>0.0014690221155125058</td><td>0.0017098429268759831</td><td>-7.060876331950337e-07</td><td>0.7390280961990356</td><td>0.6579601764678955</td><td>-1.4460570812225342</td><td>2.3025259971618652</td><td>1.8383710384368896</td><td>0.118260458111763</td><td>0.011593086645007133</td><td>0.014822607859969139</td><td>0.0020852694287896156</td><td>0.002866209950298071</td><td>1142</td><td>15</td><td>1142</td><td>15</td><td>0</td><td>259.0712360924725</td><td>42.8263026841642</td><td>29.572688451830246</td><td>0.005334266027432477</td><td>17.666483</td><td>-68.844230590841</td><td>28.108991060826924</td></tr>\n",
       "<tr><td>1360405881415411328</td><td>259.31537231643375</td><td>43.190582552711724</td><td>0.10355893498499062</td><td>0.10085568</td><td>5.240124</td><td>-5.209891767753999</td><td>0.1259562</td><td>-0.5620753841959242</td><td>0.11133122</td><td>18.19669</td><td>18.280176</td><td>72.21269</td><td>17.642988</td><td>66.230934</td><td>0.63718796</td><td>NOT_AVAILABLE</td><td>0.0032326186</td><td>0.001198393409140408</td><td>119</td><td>106</td><td>2522</td><td>2532</td><td>7</td><td>20</td><td>2526.5464400581445</td><td>14.458497779084091</td><td>3.270945614293808</td><td>6.115244067811858</td><td>-1.1194445897003007</td><td>9.681219250270496e-06</td><td>1.7772186499816416e-05</td><td>-2.5323859963310384e-06</td><td>2.550092935562134</td><td>1.6980032920837402</td><td>-1.2373682260513306</td><td>0.32615548372268677</td><td>0.17445531487464905</td><td>0.11941076815128326</td><td>2.2966227531433105</td><td>2.311380624771118</td><td>0.08137239515781403</td><td>0.0972118228673935</td><td>2527</td><td>15</td><td>2527</td><td>15</td><td>0</td><td>259.8943007708783</td><td>43.199482035286266</td><td>24.090321328830964</td><td>0.5725380047063027</td><td>18.853645</td><td>-32.03813726834994</td><td>-1899.4874161707955</td></tr>\n",
       "<tr><td>1360404777609896320</td><td>259.3156835313084</td><td>43.13040461233349</td><td>-0.0033734814758474467</td><td>0.059519745</td><td>5.604936</td><td>-5.4914752582421915</td><td>0.067331865</td><td>-1.122054926303628</td><td>0.08870313</td><td>16.48717</td><td>16.608503</td><td>84.83613</td><td>15.743412</td><td>136.57072</td><td>0.8650913</td><td>NOT_AVAILABLE</td><td>9.160086e-08</td><td>0.001198393409140408</td><td>35</td><td>33</td><td>2226</td><td>2230</td><td>17</td><td>24</td><td>2227.8357134290604</td><td>20.740635611944437</td><td>1.403970027339449</td><td>3.3849300926053303</td><td>-0.44541869849815807</td><td>0.0003903907486752316</td><td>0.000989921523650531</td><td>-0.00010082946340336668</td><td>1.865602970123291</td><td>1.143864393234253</td><td>-1.3594942092895508</td><td>0.7432966232299805</td><td>0.30829769372940063</td><td>0.19561894237995148</td><td>0.09574804455041885</td><td>0.10270632058382034</td><td>0.005369056016206741</td><td>0.006994692143052816</td><td>2228</td><td>21</td><td>2228</td><td>22</td><td>0</td><td>259.71363905725894</td><td>43.122183513775155</td><td>27.471007072355153</td><td>0.39122410568677424</td><td>17.387085</td><td>29.59595481001429</td><td>-1305.7079988647001</td></tr>\n",
       "<tr><td>1360182543116128640</td><td>258.8363340180002</td><td>42.720542297826874</td><td>0.6729660620870266</td><td>0.012025866</td><td>10.5338545</td><td>-9.165908330975869</td><td>0.014421716</td><td>-5.191167751182979</td><td>0.015854502</td><td>11.176524</td><td>11.822947</td><td>1817.9498</td><td>10.407454</td><td>2419.648</td><td>1.415493</td><td>NOT_AVAILABLE</td><td>5.099876e-13</td><td>0.001198393409140408</td><td>145</td><td>132</td><td>741</td><td>753</td><td>9</td><td>25</td><td>747.5285785631795</td><td>19.50535536816254</td><td>3.7272158945721827</td><td>7.638302575691853</td><td>1.8901349788297068</td><td>7.043303555587792e-06</td><td>1.37698956187577e-05</td><td>3.8144708702985436e-06</td><td>2.8986992835998535</td><td>1.721354365348816</td><td>1.1866005659103394</td><td>0.30679619312286377</td><td>0.14970546960830688</td><td>-0.15183641016483307</td><td>3.477219820022583</td><td>3.497385263442993</td><td>0.12824267148971558</td><td>0.15524323284626007</td><td>748</td><td>20</td><td>748</td><td>20</td><td>0</td><td>258.83721582480746</td><td>42.72087962277974</td><td>23.640641310582783</td><td>0.0009249679697518332</td><td>13.09689</td><td>-1.2143698303191286</td><td>-2.893243406976203</td></tr>\n",
       "<tr><td>1360188693508459904</td><td>258.95871485037094</td><td>42.778073491407234</td><td>3.044915990412573</td><td>0.012328657</td><td>20.816397</td><td>15.394943903937222</td><td>0.013932266</td><td>-14.01135546024954</td><td>0.015983583</td><td>13.931555</td><td>14.410024</td><td>562.03815</td><td>13.240077</td><td>282.92896</td><td>1.1699467</td><td>NOT_AVAILABLE</td><td>6.272884e-13</td><td>0.001198393409140408</td><td>43</td><td>39</td><td>952</td><td>958</td><td>20</td><td>26</td><td>955.2865320535193</td><td>23.254676664629436</td><td>2.4862975664953026</td><td>2.7309196476375757</td><td>0.6166636574041959</td><td>0.0004465800500901522</td><td>0.0004681249553311625</td><td>8.729414599198254e-05</td><td>1.7992457151412964</td><td>1.4071006774902344</td><td>0.8832991719245911</td><td>0.4260667860507965</td><td>0.38790184259414673</td><td>-0.19241861999034882</td><td>0.1378220021724701</td><td>0.14529694616794586</td><td>0.006825974211096764</td><td>0.008304835297167301</td><td>956</td><td>24</td><td>956</td><td>24</td><td>0</td><td>258.95818468586714</td><td>42.77915732672569</td><td>27.094358783875514</td><td>0.0003464253887841551</td><td>15.4629755</td><td>-3.9018071464340665</td><td>1.739490943548867</td></tr>\n",
       "<tr><td>1360404781902265216</td><td>259.31556500570207</td><td>43.12623955193772</td><td>--</td><td>--</td><td>--</td><td>--</td><td>--</td><td>--</td><td>--</td><td>18.758318</td><td>17.990032</td><td>15.030289</td><td>17.268703</td><td>22.460972</td><td>0.72132874</td><td>NOT_AVAILABLE</td><td>0.032949537</td><td>0.001198393409140408</td><td>10</td><td>5</td><td>2216</td><td>2219</td><td>23</td><td>26</td><td>2217.6895062505464</td><td>24.358815345703047</td><td>0.6945099312864849</td><td>0.6638616809902727</td><td>0.14564950321877257</td><td>0.0015927132218626725</td><td>0.0015992977556409007</td><td>0.0003723351837133107</td><td>0.9086469411849976</td><td>0.7298851609230042</td><td>0.7329848408699036</td><td>1.5093090534210205</td><td>1.578988790512085</td><td>-0.6622768640518188</td><td>0.017093565315008163</td><td>0.020715199410915375</td><td>0.0024261486250907183</td><td>0.0035838959738612175</td><td>2218</td><td>25</td><td>2218</td><td>25</td><td>0</td><td>259.70625340300677</td><td>43.121034777346075</td><td>29.20927720423146</td><td>0.3845502910641585</td><td>18.639229</td><td>18.737188529928517</td><td>-1281.8642590926133</td></tr>\n",
       "<tr><td>1360424985434843648</td><td>259.3142641109676</td><td>43.41267442133507</td><td>5.78483161888149</td><td>0.01371474</td><td>30.336596</td><td>17.696275934262825</td><td>0.01563012</td><td>-24.640430747237865</td><td>0.014728485</td><td>10.605348</td><td>10.882396</td><td>921.9959</td><td>10.169641</td><td>1325.9625</td><td>0.7127552</td><td>NOT_AVAILABLE</td><td>5.67615e-13</td><td>0.001198393409140408</td><td>36</td><td>34</td><td>3261</td><td>3267</td><td>20</td><td>27</td><td>3263.834061556993</td><td>23.910231504265568</td><td>2.333146553883049</td><td>2.6397401343939286</td><td>-1.0425207280207633</td><td>0.0007639404062266002</td><td>0.0008978802328368671</td><td>-0.0003469741069793074</td><td>1.8815351724624634</td><td>1.1969594955444336</td><td>-0.8583971858024597</td><td>0.5204482674598694</td><td>0.460000604391098</td><td>0.41108447313308716</td><td>0.09025272727012634</td><td>0.09648463875055313</td><td>0.0053573837503790855</td><td>0.0072683957405388355</td><td>3263</td><td>25</td><td>3263</td><td>25</td><td>0</td><td>260.33302584488547</td><td>43.39992352940028</td><td>27.538854562156285</td><td>1.0027350041808631</td><td>11.523875</td><td>45.903210965229846</td><td>-3342.5979994538884</td></tr>\n",
       "<tr><td>...</td><td>...</td><td>...</td><td>...</td><td>...</td><td>...</td><td>...</td><td>...</td><td>...</td><td>...</td><td>...</td><td>...</td><td>...</td><td>...</td><td>...</td><td>...</td><td>...</td><td>...</td><td>...</td><td>...</td><td>...</td><td>...</td><td>...</td><td>...</td><td>...</td><td>...</td><td>...</td><td>...</td><td>...</td><td>...</td><td>...</td><td>...</td><td>...</td><td>...</td><td>...</td><td>...</td><td>...</td><td>...</td><td>...</td><td>...</td><td>...</td><td>...</td><td>...</td><td>...</td><td>...</td><td>...</td><td>...</td><td>...</td><td>...</td><td>...</td><td>...</td><td>...</td><td>...</td><td>...</td><td>...</td></tr>\n",
       "<tr><td>1361499792405321344</td><td>258.27075454391155</td><td>44.41237926983731</td><td>0.2282595135328304</td><td>0.020884413</td><td>7.517528</td><td>-0.6711088912718821</td><td>0.02183998</td><td>-7.4875123654563875</td><td>0.031309206</td><td>15.171155</td><td>15.614343</td><td>412.89038</td><td>14.560684</td><td>870.1654</td><td>1.0536585</td><td>NOT_AVAILABLE</td><td>5.105233e-13</td><td>0.001198393409140408</td><td>94</td><td>86</td><td>1660</td><td>1671</td><td>3441</td><td>3453</td><td>1664.5947264447275</td><td>3445.2100355953753</td><td>4.32698143815</td><td>6.347694875066338</td><td>1.097452917598531</td><td>0.00014391181948457393</td><td>0.00022435881040048491</td><td>2.611836287533986e-05</td><td>2.613246440887451</td><td>1.9610252380371094</td><td>1.157448649406433</td><td>0.24170686304569244</td><td>0.16476234793663025</td><td>-0.08357739448547363</td><td>0.5272294282913208</td><td>0.5348153114318848</td><td>0.022781778126955032</td><td>0.03198898211121559</td><td>1664</td><td>3444</td><td>1664</td><td>3444</td><td>1</td><td>258.07467060102294</td><td>44.45169786058093</td><td>25.67949041912354</td><td>0.18657421588721945</td><td>16.562635</td><td>-141.54692667702875</td><td>643.3592599752321</td></tr>\n",
       "<tr><td>1361500926276512000</td><td>258.278401534051</td><td>44.46037436723933</td><td>1.4397694494206503</td><td>0.014193962</td><td>6.823644</td><td>2.1465164150014298</td><td>0.014793502</td><td>6.477236179990169</td><td>0.019855395</td><td>14.11191</td><td>14.453374</td><td>1344.9457</td><td>13.605276</td><td>1637.0073</td><td>0.8480978</td><td>NOT_AVAILABLE</td><td>5.1513183e-13</td><td>0.001198393409140408</td><td>59</td><td>56</td><td>1663</td><td>1674</td><td>3450</td><td>3456</td><td>1669.0791585280638</td><td>3453.6215699256154</td><td>6.418653759596168</td><td>2.628399965386045</td><td>-0.1380743201065293</td><td>0.0008269017915394948</td><td>0.0002765898436702257</td><td>-3.376268866724753e-05</td><td>2.5344974994659424</td><td>1.619684100151062</td><td>-0.03636452555656433</td><td>0.1559721678495407</td><td>0.38089001178741455</td><td>0.016386965289711952</td><td>0.18792685866355896</td><td>0.19986382126808167</td><td>0.004765043035149574</td><td>0.005457080900669098</td><td>1669</td><td>3454</td><td>1669</td><td>3453</td><td>1</td><td>258.07408592032147</td><td>44.45656231030897</td><td>26.748164533534595</td><td>0.2019989458776763</td><td>15.216661</td><td>13.723404949311657</td><td>670.3677012711506</td></tr>\n",
       "<tr><td>1361513016608742784</td><td>258.26746351326807</td><td>44.50417771490874</td><td>0.2764628294844328</td><td>0.05799957</td><td>7.463313</td><td>-3.9589628895312687</td><td>0.06325218</td><td>-6.326741094498875</td><td>0.091095835</td><td>17.158667</td><td>17.51608</td><td>117.2016</td><td>16.6757</td><td>323.46603</td><td>0.8403816</td><td>NOT_AVAILABLE</td><td>5.4923096e-13</td><td>0.001198393409140408</td><td>5</td><td>5</td><td>1788</td><td>1790</td><td>3455</td><td>3456</td><td>1788.7588934582893</td><td>3455.402926388363</td><td>0.5028475294705462</td><td>0.24057671392376737</td><td>-0.10143246198672143</td><td>0.0021911286725253254</td><td>0.0009362635650166027</td><td>-0.00046858433990321335</td><td>0.7331427335739136</td><td>0.45379069447517395</td><td>-0.32918426394462585</td><td>2.1735286712646484</td><td>4.543056011199951</td><td>1.832815408706665</td><td>0.008580818772315979</td><td>0.012081346474587917</td><td>0.0020136982202529907</td><td>0.002965405350551009</td><td>1789</td><td>3455</td><td>1789</td><td>3455</td><td>2</td><td>258.14558892133385</td><td>44.490451596917374</td><td>29.79471165147761</td><td>0.12243528002858284</td><td>18.272425</td><td>49.41402476892449</td><td>399.8754111198383</td></tr>\n",
       "<tr><td>1361512024471990400</td><td>258.7937043952734</td><td>44.78619182397719</td><td>0.3967103186305303</td><td>0.024087982</td><td>19.654148</td><td>-8.075196365305215</td><td>0.026491154</td><td>17.918614958670695</td><td>0.029181754</td><td>15.774104</td><td>16.031826</td><td>499.79175</td><td>15.347398</td><td>547.16516</td><td>0.6844282</td><td>NOT_AVAILABLE</td><td>5.136763e-13</td><td>0.001198393409140408</td><td>33</td><td>32</td><td>2898</td><td>2905</td><td>3449</td><td>3453</td><td>2902.7415501295886</td><td>3450.7610664487365</td><td>4.088417336415027</td><td>1.4767099578134708</td><td>0.48615946920022246</td><td>0.0018690277041460833</td><td>0.000583471104505441</td><td>0.00019985704818349957</td><td>2.0435211658477783</td><td>1.178621530532837</td><td>0.17819741368293762</td><td>0.25455883145332336</td><td>0.7047712802886963</td><td>-0.16761068999767303</td><td>0.07324812561273575</td><td>0.07841375470161438</td><td>0.0032676060218364</td><td>0.0047045014798641205</td><td>2904</td><td>3451</td><td>2904</td><td>3450</td><td>1</td><td>258.82338801182965</td><td>44.79449018546803</td><td>27.764019375589243</td><td>0.030663940790930155</td><td>16.647812</td><td>-29.87410136701385</td><td>-97.39313326578248</td></tr>\n",
       "<tr><td>1361512024471990400</td><td>258.7937043952734</td><td>44.78619182397719</td><td>0.3967103186305303</td><td>0.024087982</td><td>19.654148</td><td>-8.075196365305215</td><td>0.026491154</td><td>17.918614958670695</td><td>0.029181754</td><td>15.774104</td><td>16.031826</td><td>499.79175</td><td>15.347398</td><td>547.16516</td><td>0.6844282</td><td>NOT_AVAILABLE</td><td>5.136763e-13</td><td>0.001198393409140408</td><td>15</td><td>14</td><td>2902</td><td>2906</td><td>3454</td><td>3456</td><td>2904.1750938191262</td><td>3455.1576911245825</td><td>1.6405825989832135</td><td>0.6395778891382085</td><td>0.04506352211652409</td><td>0.0018103563613296588</td><td>0.0006165102867606477</td><td>2.4615314276405122e-05</td><td>1.2816424369812012</td><td>0.7984693646430969</td><td>0.044897232204675674</td><td>0.6107215285301208</td><td>1.5665630102157593</td><td>-0.08606071025133133</td><td>0.031089331954717636</td><td>0.036019355058670044</td><td>0.0025396733544766903</td><td>0.003744082059711218</td><td>2904</td><td>3455</td><td>2904</td><td>3456</td><td>3</td><td>258.8225589939772</td><td>44.79678560221714</td><td>28.60866016916936</td><td>0.030238525470508648</td><td>16.647812</td><td>-38.13760166382281</td><td>-94.67309253126248</td></tr>\n",
       "<tr><td>1361535286014859008</td><td>258.85491609334844</td><td>44.78501140091774</td><td>0.19582408201648518</td><td>0.05057826</td><td>10.454946</td><td>-7.637112401938275</td><td>0.057222687</td><td>7.140055978552007</td><td>0.06222245</td><td>17.224987</td><td>17.570309</td><td>157.65042</td><td>16.731668</td><td>210.70192</td><td>0.8386402</td><td>NOT_AVAILABLE</td><td>5.2016155e-13</td><td>0.001198393409140408</td><td>39</td><td>37</td><td>2907</td><td>2913</td><td>3427</td><td>3435</td><td>2910.798442144847</td><td>3432.4642943575554</td><td>2.674320784730625</td><td>3.6564270380668376</td><td>1.6078274912546036</td><td>0.000556260514151217</td><td>0.000760938956938812</td><td>0.0003573285933510881</td><td>2.2014806270599365</td><td>1.218290090560913</td><td>0.9336063861846924</td><td>0.508306622505188</td><td>0.37177684903144836</td><td>-0.4470316469669342</td><td>0.12855379283428192</td><td>0.13285864889621735</td><td>0.007975487969815731</td><td>0.01169992983341217</td><td>2911</td><td>3433</td><td>2911</td><td>3432</td><td>1</td><td>258.835390710637</td><td>44.78876351296138</td><td>27.191525421056</td><td>0.018599803998256448</td><td>18.325085</td><td>-13.50760335711243</td><td>64.06356169152889</td></tr>\n",
       "<tr><td>1361535286014859008</td><td>258.85491609334844</td><td>44.78501140091774</td><td>0.19582408201648518</td><td>0.05057826</td><td>10.454946</td><td>-7.637112401938275</td><td>0.057222687</td><td>7.140055978552007</td><td>0.06222245</td><td>17.224987</td><td>17.570309</td><td>157.65042</td><td>16.731668</td><td>210.70192</td><td>0.8386402</td><td>NOT_AVAILABLE</td><td>5.2016155e-13</td><td>0.001198393409140408</td><td>62</td><td>53</td><td>2910</td><td>2919</td><td>3431</td><td>3441</td><td>2915.0121341454937</td><td>3437.288018326988</td><td>2.755704704466247</td><td>4.0188918550490484</td><td>-0.09122493854602709</td><td>0.00024456705088579434</td><td>0.000376961487312827</td><td>-2.2060536779730974e-05</td><td>2.0063514709472656</td><td>1.6580562591552734</td><td>-1.4990742206573486</td><td>0.3631564676761627</td><td>0.24901191890239716</td><td>0.016486598178744316</td><td>0.26502710580825806</td><td>0.26940855383872986</td><td>0.01673755794763565</td><td>0.02515687420964241</td><td>2915</td><td>3437</td><td>2915</td><td>3437</td><td>1</td><td>258.8360928535978</td><td>44.79200245982426</td><td>26.423971548388707</td><td>0.017355665891898298</td><td>18.325085</td><td>-25.167812063477868</td><td>61.75980255145749</td></tr>\n",
       "<tr><td>1361535286014859008</td><td>258.85491609334844</td><td>44.78501140091774</td><td>0.19582408201648518</td><td>0.05057826</td><td>10.454946</td><td>-7.637112401938275</td><td>0.057222687</td><td>7.140055978552007</td><td>0.06222245</td><td>17.224987</td><td>17.570309</td><td>157.65042</td><td>16.731668</td><td>210.70192</td><td>0.8386402</td><td>NOT_AVAILABLE</td><td>5.2016155e-13</td><td>0.001198393409140408</td><td>63</td><td>54</td><td>2914</td><td>2921</td><td>3440</td><td>3450</td><td>2917.4505620018604</td><td>3445.5272460713845</td><td>2.407652133174331</td><td>6.334398833650916</td><td>0.29344612958990623</td><td>0.000245385447339485</td><td>0.0005842655963678792</td><td>3.930794218941244e-05</td><td>2.5211520195007324</td><td>1.544617772102356</td><td>1.4966152906417847</td><td>0.4177008271217346</td><td>0.15876460075378418</td><td>-0.0387006551027298</td><td>0.23342354595661163</td><td>0.23806069791316986</td><td>0.0102755818516016</td><td>0.016296405345201492</td><td>2917</td><td>3447</td><td>2917</td><td>3447</td><td>1</td><td>258.8343889667936</td><td>44.79623652886782</td><td>26.558280743830487</td><td>0.01831257918428264</td><td>18.325085</td><td>-40.41046062030205</td><td>67.350323311489</td></tr>\n",
       "<tr><td>1361535286014859008</td><td>258.85491609334844</td><td>44.78501140091774</td><td>0.19582408201648518</td><td>0.05057826</td><td>10.454946</td><td>-7.637112401938275</td><td>0.057222687</td><td>7.140055978552007</td><td>0.06222245</td><td>17.224987</td><td>17.570309</td><td>157.65042</td><td>16.731668</td><td>210.70192</td><td>0.8386402</td><td>NOT_AVAILABLE</td><td>5.2016155e-13</td><td>0.001198393409140408</td><td>33</td><td>31</td><td>2918</td><td>2924</td><td>3450</td><td>3456</td><td>2920.7386778945515</td><td>3453.662925659858</td><td>2.258447577300931</td><td>3.1660786022549736</td><td>1.4202071202444824</td><td>0.0006807920036544905</td><td>0.0008215030192138015</td><td>0.00035776321942247843</td><td>2.0501742362976074</td><td>1.105129599571228</td><td>0.9400417804718018</td><td>0.6167564392089844</td><td>0.4399486780166626</td><td>-0.553316593170166</td><td>0.08977057784795761</td><td>0.09759168326854706</td><td>0.0054464153945446014</td><td>0.00815196055918932</td><td>2920</td><td>3453</td><td>2920</td><td>3453</td><td>3</td><td>258.8332433546989</td><td>44.80065753761647</td><td>27.526467977976612</td><td>0.018687438578524507</td><td>18.325085</td><td>-56.32609211544377</td><td>71.10912241874027</td></tr>\n",
       "<tr><td>1361535286014859008</td><td>258.85491609334844</td><td>44.78501140091774</td><td>0.19582408201648518</td><td>0.05057826</td><td>10.454946</td><td>-7.637112401938275</td><td>0.057222687</td><td>7.140055978552007</td><td>0.06222245</td><td>17.224987</td><td>17.570309</td><td>157.65042</td><td>16.731668</td><td>210.70192</td><td>0.8386402</td><td>NOT_AVAILABLE</td><td>5.2016155e-13</td><td>0.001198393409140408</td><td>72</td><td>66</td><td>2907</td><td>2917</td><td>3420</td><td>3430</td><td>2913.6539742760924</td><td>3425.8841979000294</td><td>8.744239243454189</td><td>5.325214527628319</td><td>2.340644866595099</td><td>0.00222524210689686</td><td>0.0014282605410109348</td><td>0.0007217968031644101</td><td>3.1516952514648438</td><td>2.0337822437286377</td><td>0.4699920117855072</td><td>0.12961037456989288</td><td>0.21282599866390228</td><td>-0.11393788456916809</td><td>0.13312561810016632</td><td>0.1375148892402649</td><td>0.0030589615926146507</td><td>0.004319456405937672</td><td>2914</td><td>3425</td><td>2914</td><td>3425</td><td>1</td><td>258.839681033866</td><td>44.78669227612394</td><td>27.15412569158778</td><td>0.014725448341209812</td><td>18.325085</td><td>-6.051150742311506</td><td>49.9868395642969</td></tr>\n",
       "</table></div>"
      ],
      "text/plain": [
       "<Table length=5197>\n",
       "     source_id              ra         ...        ra_res      \n",
       "                           deg         ...         deg        \n",
       "       int64             float64       ...       float64      \n",
       "------------------- ------------------ ... -------------------\n",
       "1360187662717292160  259.1292165741683 ...   7.866411302551132\n",
       "1360182302597958656 258.86052662717714 ... -15.811130385494435\n",
       "1360187490918602752  259.0798031904234 ...  28.108991060826924\n",
       "1360405881415411328 259.31537231643375 ... -1899.4874161707955\n",
       "1360404777609896320  259.3156835313084 ... -1305.7079988647001\n",
       "1360182543116128640  258.8363340180002 ...  -2.893243406976203\n",
       "1360188693508459904 258.95871485037094 ...   1.739490943548867\n",
       "1360404781902265216 259.31556500570207 ... -1281.8642590926133\n",
       "1360424985434843648  259.3142641109676 ... -3342.5979994538884\n",
       "                ...                ... ...                 ...\n",
       "1361499792405321344 258.27075454391155 ...   643.3592599752321\n",
       "1361500926276512000   258.278401534051 ...   670.3677012711506\n",
       "1361513016608742784 258.26746351326807 ...   399.8754111198383\n",
       "1361512024471990400  258.7937043952734 ...  -97.39313326578248\n",
       "1361512024471990400  258.7937043952734 ...  -94.67309253126248\n",
       "1361535286014859008 258.85491609334844 ...   64.06356169152889\n",
       "1361535286014859008 258.85491609334844 ...   61.75980255145749\n",
       "1361535286014859008 258.85491609334844 ...     67.350323311489\n",
       "1361535286014859008 258.85491609334844 ...   71.10912241874027\n",
       "1361535286014859008 258.85491609334844 ...    49.9868395642969"
      ]
     },
     "execution_count": 82,
     "metadata": {},
     "output_type": "execute_result"
    }
   ],
   "source": [
    "fincat"
   ]
  },
  {
   "cell_type": "code",
   "execution_count": null,
   "metadata": {},
   "outputs": [],
   "source": []
  }
 ],
 "metadata": {
  "kernelspec": {
   "display_name": "Python 3",
   "language": "python",
   "name": "python3"
  },
  "language_info": {
   "codemirror_mode": {
    "name": "ipython",
    "version": 3
   },
   "file_extension": ".py",
   "mimetype": "text/x-python",
   "name": "python",
   "nbconvert_exporter": "python",
   "pygments_lexer": "ipython3",
   "version": "3.8.3"
  }
 },
 "nbformat": 4,
 "nbformat_minor": 4
}
